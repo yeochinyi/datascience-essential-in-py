{
 "cells": [
  {
   "cell_type": "code",
   "execution_count": 2,
   "metadata": {},
   "outputs": [
    {
     "name": "stdout",
     "output_type": "stream",
     "text": [
      "Collecting sklearn\n",
      "Collecting scikit-learn (from sklearn)\n",
      "\u001b[?25l  Downloading https://files.pythonhosted.org/packages/b6/e2/a1e254a4a4598588d4fe88b45ab88a226c289ecfd0f6c90474eb6a9ea6b3/scikit_learn-0.19.2-cp35-cp35m-manylinux1_x86_64.whl (4.9MB)\n",
      "\u001b[K    100% |████████████████████████████████| 4.9MB 2.0MB/s ta 0:00:01\n",
      "\u001b[?25hInstalling collected packages: scikit-learn, sklearn\n",
      "Successfully installed scikit-learn-0.19.2 sklearn-0.0\n"
     ]
    }
   ],
   "source": [
    "# !pip install sklearn"
   ]
  },
  {
   "cell_type": "markdown",
   "metadata": {},
   "source": [
    "## Fitting a Linear Regression"
   ]
  },
  {
   "cell_type": "code",
   "execution_count": 3,
   "metadata": {},
   "outputs": [],
   "source": [
    "import numpy, pandas as pd\n",
    "import matplotlib, matplotlib.pyplot as plt \n",
    "import sklearn.linear_model as lm\n",
    "# Get the data\n",
    "sap = pd.read_csv(\"sapXXI.csv\").set_index(\"Date\")"
   ]
  },
  {
   "cell_type": "code",
   "execution_count": 4,
   "metadata": {},
   "outputs": [
    {
     "data": {
      "text/html": [
       "<div>\n",
       "<style scoped>\n",
       "    .dataframe tbody tr th:only-of-type {\n",
       "        vertical-align: middle;\n",
       "    }\n",
       "\n",
       "    .dataframe tbody tr th {\n",
       "        vertical-align: top;\n",
       "    }\n",
       "\n",
       "    .dataframe thead th {\n",
       "        text-align: right;\n",
       "    }\n",
       "</style>\n",
       "<table border=\"1\" class=\"dataframe\">\n",
       "  <thead>\n",
       "    <tr style=\"text-align: right;\">\n",
       "      <th></th>\n",
       "      <th>Open</th>\n",
       "      <th>High</th>\n",
       "      <th>Low</th>\n",
       "      <th>Close</th>\n",
       "      <th>Adj Close</th>\n",
       "      <th>Volume</th>\n",
       "    </tr>\n",
       "    <tr>\n",
       "      <th>Date</th>\n",
       "      <th></th>\n",
       "      <th></th>\n",
       "      <th></th>\n",
       "      <th></th>\n",
       "      <th></th>\n",
       "      <th></th>\n",
       "    </tr>\n",
       "  </thead>\n",
       "  <tbody>\n",
       "    <tr>\n",
       "      <th>2007-12-31</th>\n",
       "      <td>1475.250000</td>\n",
       "      <td>1475.829956</td>\n",
       "      <td>1465.130005</td>\n",
       "      <td>1468.359985</td>\n",
       "      <td>1468.359985</td>\n",
       "      <td>2440880000</td>\n",
       "    </tr>\n",
       "    <tr>\n",
       "      <th>2008-01-02</th>\n",
       "      <td>1467.969971</td>\n",
       "      <td>1471.770020</td>\n",
       "      <td>1442.069946</td>\n",
       "      <td>1447.160034</td>\n",
       "      <td>1447.160034</td>\n",
       "      <td>3452650000</td>\n",
       "    </tr>\n",
       "    <tr>\n",
       "      <th>2008-01-03</th>\n",
       "      <td>1447.550049</td>\n",
       "      <td>1456.800049</td>\n",
       "      <td>1443.729980</td>\n",
       "      <td>1447.160034</td>\n",
       "      <td>1447.160034</td>\n",
       "      <td>3429500000</td>\n",
       "    </tr>\n",
       "    <tr>\n",
       "      <th>2008-01-04</th>\n",
       "      <td>1444.010010</td>\n",
       "      <td>1444.010010</td>\n",
       "      <td>1411.189941</td>\n",
       "      <td>1411.630005</td>\n",
       "      <td>1411.630005</td>\n",
       "      <td>4166000000</td>\n",
       "    </tr>\n",
       "    <tr>\n",
       "      <th>2008-01-07</th>\n",
       "      <td>1414.069946</td>\n",
       "      <td>1423.869995</td>\n",
       "      <td>1403.449951</td>\n",
       "      <td>1416.180054</td>\n",
       "      <td>1416.180054</td>\n",
       "      <td>4221260000</td>\n",
       "    </tr>\n",
       "  </tbody>\n",
       "</table>\n",
       "</div>"
      ],
      "text/plain": [
       "                   Open         High          Low        Close    Adj Close  \\\n",
       "Date                                                                          \n",
       "2007-12-31  1475.250000  1475.829956  1465.130005  1468.359985  1468.359985   \n",
       "2008-01-02  1467.969971  1471.770020  1442.069946  1447.160034  1447.160034   \n",
       "2008-01-03  1447.550049  1456.800049  1443.729980  1447.160034  1447.160034   \n",
       "2008-01-04  1444.010010  1444.010010  1411.189941  1411.630005  1411.630005   \n",
       "2008-01-07  1414.069946  1423.869995  1403.449951  1416.180054  1416.180054   \n",
       "\n",
       "                Volume  \n",
       "Date                    \n",
       "2007-12-31  2440880000  \n",
       "2008-01-02  3452650000  \n",
       "2008-01-03  3429500000  \n",
       "2008-01-04  4166000000  \n",
       "2008-01-07  4221260000  "
      ]
     },
     "execution_count": 4,
     "metadata": {},
     "output_type": "execute_result"
    }
   ],
   "source": [
    "sap.head()"
   ]
  },
  {
   "cell_type": "code",
   "execution_count": 8,
   "metadata": {},
   "outputs": [
    {
     "data": {
      "text/plain": [
       "0.965155869951637"
      ]
     },
     "execution_count": 8,
     "metadata": {},
     "output_type": "execute_result"
    }
   ],
   "source": [
    "# Select a \"linearly looking\" part\n",
    "sap.index = pd.to_datetime(sap.index)\n",
    "sap_linear = sap.loc[sap.index > pd.to_datetime('2009-01-01')]\n",
    "\n",
    "# Prepare the model and fit it\n",
    "olm = lm.LinearRegression()\n",
    "X = numpy.array([x.toordinal() for x in sap_linear.index])[:, numpy.newaxis] \n",
    "y = sap_linear['Close']\n",
    "olm.fit(X, y)\n",
    "\n",
    "# Predict values\n",
    "yp = [olm.predict(x.toordinal())[0] for x in sap_linear.index] # Evaluate the model\n",
    "olm_score = olm.score(X, y)\n",
    "olm_score"
   ]
  },
  {
   "cell_type": "code",
   "execution_count": 11,
   "metadata": {},
   "outputs": [
    {
     "data": {
      "text/plain": [
       "<matplotlib.legend.Legend at 0x7f50c52048d0>"
      ]
     },
     "execution_count": 11,
     "metadata": {},
     "output_type": "execute_result"
    },
    {
     "data": {
      "image/png": "[encoded data removed]",
      "text/plain": [
       "<Figure size 432x288 with 1 Axes>"
      ]
     },
     "metadata": {},
     "output_type": "display_data"
    }
   ],
   "source": [
    "# Select a nice plotting style\n",
    "matplotlib.style.use(\"ggplot\")\n",
    "\n",
    "# Plot both data sets\n",
    "plt.plot(sap_linear.index, y)\n",
    "plt.plot(sap_linear.index, yp)\n",
    "\n",
    "# Add decorations\n",
    "plt.title(\"OLS Regression\")\n",
    "plt.xlabel(\"Year\")\n",
    "plt.ylabel(\"S&P 500 (closing)\")\n",
    "plt.legend([\"Actual\", \"Predicted\"], loc=\"lower right\") \n",
    "# plt.annotate(\"Score=%.3f\" % olm_score, xy=(pd.to_datetime('2010-06-01'), 1900)) \n",
    "# plt.savefig(\"../images/sap-linregr.pdf\")"
   ]
  },
  {
   "cell_type": "markdown",
   "metadata": {},
   "source": [
    "## Ridge Regression"
   ]
  },
  {
   "cell_type": "code",
   "execution_count": 12,
   "metadata": {},
   "outputs": [
    {
     "data": {
      "text/plain": [
       "Ridge(alpha=0.5, copy_X=True, fit_intercept=True, max_iter=None,\n",
       "   normalize=False, random_state=None, solver='auto', tol=0.001)"
      ]
     },
     "execution_count": 12,
     "metadata": {},
     "output_type": "execute_result"
    }
   ],
   "source": [
    "regr = lm.Ridge(alpha=.5) \n",
    "regr.fit(X, y)"
   ]
  },
  {
   "cell_type": "code",
   "execution_count": null,
   "metadata": {},
   "outputs": [],
   "source": []
  }
 ],
 "metadata": {
  "kernelspec": {
   "display_name": "Python 3",
   "language": "python",
   "name": "python3"
  },
  "language_info": {
   "codemirror_mode": {
    "name": "ipython",
    "version": 3
   },
   "file_extension": ".py",
   "mimetype": "text/x-python",
   "name": "python",
   "nbconvert_exporter": "python",
   "pygments_lexer": "ipython3",
   "version": "3.5.2"
  }
 },
 "nbformat": 4,
 "nbformat_minor": 2
}
