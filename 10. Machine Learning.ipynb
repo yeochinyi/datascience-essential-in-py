{
 "cells": [
  {
   "cell_type": "code",
   "execution_count": 2,
   "metadata": {},
   "outputs": [
    {
     "name": "stdout",
     "output_type": "stream",
     "text": [
      "Collecting sklearn\n",
      "Collecting scikit-learn (from sklearn)\n",
      "\u001b[?25l  Downloading https://files.pythonhosted.org/packages/b6/e2/a1e254a4a4598588d4fe88b45ab88a226c289ecfd0f6c90474eb6a9ea6b3/scikit_learn-0.19.2-cp35-cp35m-manylinux1_x86_64.whl (4.9MB)\n",
      "\u001b[K    100% |████████████████████████████████| 4.9MB 2.0MB/s ta 0:00:01\n",
      "\u001b[?25hInstalling collected packages: scikit-learn, sklearn\n",
      "Successfully installed scikit-learn-0.19.2 sklearn-0.0\n"
     ]
    }
   ],
   "source": [
    "# !pip install sklearn"
   ]
  },
  {
   "cell_type": "markdown",
   "metadata": {},
   "source": [
    "## Fitting a Linear Regression"
   ]
  },
  {
   "cell_type": "code",
   "execution_count": 3,
   "metadata": {},
   "outputs": [],
   "source": [
    "import numpy, pandas as pd\n",
    "import matplotlib, matplotlib.pyplot as plt \n",
    "import sklearn.linear_model as lm\n",
    "\n",
    "# Get the data\n",
    "sap = pd.read_csv(\"sapXXI.csv\").set_index(\"Date\")"
   ]
  },
  {
   "cell_type": "code",
   "execution_count": 4,
   "metadata": {},
   "outputs": [
    {
     "data": {
      "text/html": [
       "<div>\n",
       "<style scoped>\n",
       "    .dataframe tbody tr th:only-of-type {\n",
       "        vertical-align: middle;\n",
       "    }\n",
       "\n",
       "    .dataframe tbody tr th {\n",
       "        vertical-align: top;\n",
       "    }\n",
       "\n",
       "    .dataframe thead th {\n",
       "        text-align: right;\n",
       "    }\n",
       "</style>\n",
       "<table border=\"1\" class=\"dataframe\">\n",
       "  <thead>\n",
       "    <tr style=\"text-align: right;\">\n",
       "      <th></th>\n",
       "      <th>Open</th>\n",
       "      <th>High</th>\n",
       "      <th>Low</th>\n",
       "      <th>Close</th>\n",
       "      <th>Adj Close</th>\n",
       "      <th>Volume</th>\n",
       "    </tr>\n",
       "    <tr>\n",
       "      <th>Date</th>\n",
       "      <th></th>\n",
       "      <th></th>\n",
       "      <th></th>\n",
       "      <th></th>\n",
       "      <th></th>\n",
       "      <th></th>\n",
       "    </tr>\n",
       "  </thead>\n",
       "  <tbody>\n",
       "    <tr>\n",
       "      <th>2007-12-31</th>\n",
       "      <td>1475.250000</td>\n",
       "      <td>1475.829956</td>\n",
       "      <td>1465.130005</td>\n",
       "      <td>1468.359985</td>\n",
       "      <td>1468.359985</td>\n",
       "      <td>2440880000</td>\n",
       "    </tr>\n",
       "    <tr>\n",
       "      <th>2008-01-02</th>\n",
       "      <td>1467.969971</td>\n",
       "      <td>1471.770020</td>\n",
       "      <td>1442.069946</td>\n",
       "      <td>1447.160034</td>\n",
       "      <td>1447.160034</td>\n",
       "      <td>3452650000</td>\n",
       "    </tr>\n",
       "    <tr>\n",
       "      <th>2008-01-03</th>\n",
       "      <td>1447.550049</td>\n",
       "      <td>1456.800049</td>\n",
       "      <td>1443.729980</td>\n",
       "      <td>1447.160034</td>\n",
       "      <td>1447.160034</td>\n",
       "      <td>3429500000</td>\n",
       "    </tr>\n",
       "    <tr>\n",
       "      <th>2008-01-04</th>\n",
       "      <td>1444.010010</td>\n",
       "      <td>1444.010010</td>\n",
       "      <td>1411.189941</td>\n",
       "      <td>1411.630005</td>\n",
       "      <td>1411.630005</td>\n",
       "      <td>4166000000</td>\n",
       "    </tr>\n",
       "    <tr>\n",
       "      <th>2008-01-07</th>\n",
       "      <td>1414.069946</td>\n",
       "      <td>1423.869995</td>\n",
       "      <td>1403.449951</td>\n",
       "      <td>1416.180054</td>\n",
       "      <td>1416.180054</td>\n",
       "      <td>4221260000</td>\n",
       "    </tr>\n",
       "  </tbody>\n",
       "</table>\n",
       "</div>"
      ],
      "text/plain": [
       "                   Open         High          Low        Close    Adj Close  \\\n",
       "Date                                                                          \n",
       "2007-12-31  1475.250000  1475.829956  1465.130005  1468.359985  1468.359985   \n",
       "2008-01-02  1467.969971  1471.770020  1442.069946  1447.160034  1447.160034   \n",
       "2008-01-03  1447.550049  1456.800049  1443.729980  1447.160034  1447.160034   \n",
       "2008-01-04  1444.010010  1444.010010  1411.189941  1411.630005  1411.630005   \n",
       "2008-01-07  1414.069946  1423.869995  1403.449951  1416.180054  1416.180054   \n",
       "\n",
       "                Volume  \n",
       "Date                    \n",
       "2007-12-31  2440880000  \n",
       "2008-01-02  3452650000  \n",
       "2008-01-03  3429500000  \n",
       "2008-01-04  4166000000  \n",
       "2008-01-07  4221260000  "
      ]
     },
     "execution_count": 4,
     "metadata": {},
     "output_type": "execute_result"
    }
   ],
   "source": [
    "sap.head()"
   ]
  },
  {
   "cell_type": "code",
   "execution_count": null,
   "metadata": {},
   "outputs": [],
   "source": [
    "# Select a \"linearly looking\" part\n",
    "# sap.index = pd.to_datetime(sap.index)\n",
    "# sap_linear = sap.loc[sap.index > pd.to_datetime('2009-01-01')]\n",
    "sap_linear = sap.copy()\n",
    "xord = [x.toordinal() for x in sap_linear.index]\n",
    "print(\"xord={}\".format(xord[:10]))\n",
    "print(\"numpy.newaxis={}\".format(numpy.newaxis))"
   ]
  },
  {
   "cell_type": "code",
   "execution_count": 29,
   "metadata": {},
   "outputs": [
    {
     "name": "stdout",
     "output_type": "stream",
     "text": [
      "X_array=[733041 733043 733044 ... 736944 736947 736948]\n",
      "X=[[733041]\n",
      " [733043]\n",
      " [733044]\n",
      " ...\n",
      " [736944]\n",
      " [736947]\n",
      " [736948]]\n"
     ]
    }
   ],
   "source": [
    "X_array = numpy.array(xord)\n",
    "print(\"X_array={}\".format(X_array))\n",
    "\n",
    "# https://stackoverflow.com/questions/29241056/how-does-numpy-newaxis-work-and-when-to-use-it\n",
    "X = X_array[:, numpy.newaxis] \n",
    "\n",
    "print(\"X={}\".format(X))\n",
    "\n",
    "y = sap_linear['Close']"
   ]
  },
  {
   "cell_type": "code",
   "execution_count": 30,
   "metadata": {},
   "outputs": [
    {
     "data": {
      "text/plain": [
       "0.894753848963351"
      ]
     },
     "execution_count": 30,
     "metadata": {},
     "output_type": "execute_result"
    }
   ],
   "source": [
    "\n",
    "# Prepare the model and fit it\n",
    "olm = lm.LinearRegression()\n",
    "olm.fit(X, y)\n",
    "\n",
    "# Predict values\n",
    "yp = [olm.predict(x.toordinal())[0] for x in sap_linear.index] # Evaluate the model\n",
    "olm_score = olm.score(X, y)\n",
    "olm_score"
   ]
  },
  {
   "cell_type": "code",
   "execution_count": 16,
   "metadata": {},
   "outputs": [
    {
     "data": {
      "text/plain": [
       "<matplotlib.legend.Legend at 0x7f50c8ae0198>"
      ]
     },
     "execution_count": 16,
     "metadata": {},
     "output_type": "execute_result"
    },
    {
     "data": {
      "image/png": "[encoded data removed]",
      "text/plain": [
       "<Figure size 432x288 with 1 Axes>"
      ]
     },
     "metadata": {},
     "output_type": "display_data"
    }
   ],
   "source": [
    "# Select a nice plotting style\n",
    "matplotlib.style.use(\"ggplot\")\n",
    "\n",
    "# Plot both data sets\n",
    "plt.plot(sap_linear.index, y)\n",
    "plt.plot(sap_linear.index, yp)\n",
    "\n",
    "# Add decorations\n",
    "plt.title(\"OLS Regression\")\n",
    "plt.xlabel(\"Year\")\n",
    "plt.ylabel(\"S&P 500 (closing)\")\n",
    "plt.legend([\"Actual\", \"Predicted\"], loc=\"lower right\") \n",
    "# plt.annotate(\"Score=%.3f\" % olm_score, xy=(pd.to_datetime('2010-06-01'), 1900)) \n",
    "# plt.savefig(\"../images/sap-linregr.pdf\")"
   ]
  },
  {
   "cell_type": "markdown",
   "metadata": {},
   "source": [
    "## Ridge Regression"
   ]
  },
  {
   "cell_type": "code",
   "execution_count": 31,
   "metadata": {},
   "outputs": [
    {
     "data": {
      "text/plain": [
       "0.8947538489633513"
      ]
     },
     "execution_count": 31,
     "metadata": {},
     "output_type": "execute_result"
    }
   ],
   "source": [
    "regr = lm.Ridge(alpha=.5) \n",
    "regr.fit(X, y)\n",
    "\n",
    "yp = [regr.predict(x.toordinal())[0] for x in sap_linear.index] # Evaluate the model\n",
    "regr.score(X, y)\n"
   ]
  },
  {
   "cell_type": "code",
   "execution_count": 32,
   "metadata": {},
   "outputs": [
    {
     "data": {
      "text/plain": [
       "[<matplotlib.lines.Line2D at 0x7f50c50c8550>]"
      ]
     },
     "execution_count": 32,
     "metadata": {},
     "output_type": "execute_result"
    },
    {
     "data": {
      "image/png": "[encoded data removed]",
      "text/plain": [
       "<Figure size 432x288 with 1 Axes>"
      ]
     },
     "metadata": {},
     "output_type": "display_data"
    }
   ],
   "source": [
    "# Plot both data sets\n",
    "plt.plot(sap_linear.index, y)\n",
    "plt.plot(sap_linear.index, yp)\n"
   ]
  },
  {
   "cell_type": "markdown",
   "metadata": {},
   "source": [
    "## Logit Regression"
   ]
  },
  {
   "cell_type": "code",
   "execution_count": 37,
   "metadata": {},
   "outputs": [
    {
     "data": {
      "text/html": [
       "<div>\n",
       "<style scoped>\n",
       "    .dataframe tbody tr th:only-of-type {\n",
       "        vertical-align: middle;\n",
       "    }\n",
       "\n",
       "    .dataframe tbody tr th {\n",
       "        vertical-align: top;\n",
       "    }\n",
       "\n",
       "    .dataframe thead th {\n",
       "        text-align: right;\n",
       "    }\n",
       "</style>\n",
       "<table border=\"1\" class=\"dataframe\">\n",
       "  <thead>\n",
       "    <tr style=\"text-align: right;\">\n",
       "      <th></th>\n",
       "      <th>Final score</th>\n",
       "      <th>Quiz 1</th>\n",
       "      <th>Quiz 2</th>\n",
       "      <th>Quiz 3</th>\n",
       "      <th>Quiz 4</th>\n",
       "      <th>Quiz 5</th>\n",
       "      <th>Quiz 6</th>\n",
       "      <th>Quiz 8.1</th>\n",
       "      <th>Quiz 8.2</th>\n",
       "      <th>Quiz 9.1</th>\n",
       "      <th>Quiz 9.2</th>\n",
       "      <th>Quiz 10.1</th>\n",
       "      <th>Quiz 10.2</th>\n",
       "      <th>Final exam</th>\n",
       "    </tr>\n",
       "  </thead>\n",
       "  <tbody>\n",
       "    <tr>\n",
       "      <th>0</th>\n",
       "      <td>88.85</td>\n",
       "      <td>34.5</td>\n",
       "      <td>45.0</td>\n",
       "      <td>46.2</td>\n",
       "      <td>37.0</td>\n",
       "      <td>37.25</td>\n",
       "      <td>36.25</td>\n",
       "      <td>9.5</td>\n",
       "      <td>26.0</td>\n",
       "      <td>11.00000</td>\n",
       "      <td>26.50</td>\n",
       "      <td>11.0</td>\n",
       "      <td>16.02</td>\n",
       "      <td>266.66666</td>\n",
       "    </tr>\n",
       "    <tr>\n",
       "      <th>1</th>\n",
       "      <td>74.05</td>\n",
       "      <td>29.5</td>\n",
       "      <td>12.0</td>\n",
       "      <td>21.0</td>\n",
       "      <td>11.0</td>\n",
       "      <td>7.50</td>\n",
       "      <td>32.00</td>\n",
       "      <td>11.0</td>\n",
       "      <td>28.5</td>\n",
       "      <td>10.33333</td>\n",
       "      <td>21.50</td>\n",
       "      <td>10.0</td>\n",
       "      <td>15.48</td>\n",
       "      <td>212.66667</td>\n",
       "    </tr>\n",
       "    <tr>\n",
       "      <th>2</th>\n",
       "      <td>63.05</td>\n",
       "      <td>28.3</td>\n",
       "      <td>23.0</td>\n",
       "      <td>3.0</td>\n",
       "      <td>10.0</td>\n",
       "      <td>24.00</td>\n",
       "      <td>30.00</td>\n",
       "      <td>8.5</td>\n",
       "      <td>30.0</td>\n",
       "      <td>6.33333</td>\n",
       "      <td>0.00</td>\n",
       "      <td>12.0</td>\n",
       "      <td>12.96</td>\n",
       "      <td>187.50000</td>\n",
       "    </tr>\n",
       "    <tr>\n",
       "      <th>3</th>\n",
       "      <td>96.49</td>\n",
       "      <td>40.0</td>\n",
       "      <td>49.0</td>\n",
       "      <td>45.9</td>\n",
       "      <td>40.0</td>\n",
       "      <td>39.95</td>\n",
       "      <td>39.00</td>\n",
       "      <td>9.5</td>\n",
       "      <td>31.0</td>\n",
       "      <td>11.00000</td>\n",
       "      <td>26.50</td>\n",
       "      <td>10.0</td>\n",
       "      <td>13.37</td>\n",
       "      <td>277.50000</td>\n",
       "    </tr>\n",
       "    <tr>\n",
       "      <th>4</th>\n",
       "      <td>81.72</td>\n",
       "      <td>40.0</td>\n",
       "      <td>48.5</td>\n",
       "      <td>45.0</td>\n",
       "      <td>35.0</td>\n",
       "      <td>34.50</td>\n",
       "      <td>34.80</td>\n",
       "      <td>10.5</td>\n",
       "      <td>32.0</td>\n",
       "      <td>11.00000</td>\n",
       "      <td>20.15</td>\n",
       "      <td>11.0</td>\n",
       "      <td>12.42</td>\n",
       "      <td>154.33333</td>\n",
       "    </tr>\n",
       "  </tbody>\n",
       "</table>\n",
       "</div>"
      ],
      "text/plain": [
       "   Final score  Quiz 1  Quiz 2  Quiz 3  Quiz 4  Quiz 5  Quiz 6  Quiz 8.1  \\\n",
       "0        88.85    34.5    45.0    46.2    37.0   37.25   36.25       9.5   \n",
       "1        74.05    29.5    12.0    21.0    11.0    7.50   32.00      11.0   \n",
       "2        63.05    28.3    23.0     3.0    10.0   24.00   30.00       8.5   \n",
       "3        96.49    40.0    49.0    45.9    40.0   39.95   39.00       9.5   \n",
       "4        81.72    40.0    48.5    45.0    35.0   34.50   34.80      10.5   \n",
       "\n",
       "   Quiz 8.2  Quiz 9.1  Quiz 9.2  Quiz 10.1  Quiz 10.2  Final exam  \n",
       "0      26.0  11.00000     26.50       11.0      16.02   266.66666  \n",
       "1      28.5  10.33333     21.50       10.0      15.48   212.66667  \n",
       "2      30.0   6.33333      0.00       12.0      12.96   187.50000  \n",
       "3      31.0  11.00000     26.50       10.0      13.37   277.50000  \n",
       "4      32.0  11.00000     20.15       11.0      12.42   154.33333  "
      ]
     },
     "execution_count": 37,
     "metadata": {},
     "output_type": "execute_result"
    }
   ],
   "source": [
    "import pandas as pd\n",
    "from sklearn.metrics import confusion_matrix \n",
    "import sklearn.linear_model as lm\n",
    "\n",
    "# Initialize the regression tool\n",
    "clf = lm.LogisticRegression(C=10.0)\n",
    "\n",
    "# Read the data sheet, quantize letter grades\n",
    "grades = pd.read_table(\"grades.csv\")\n",
    "grades.head()"
   ]
  },
  {
   "cell_type": "code",
   "execution_count": 39,
   "metadata": {},
   "outputs": [
    {
     "data": {
      "text/html": [
       "<div>\n",
       "<style scoped>\n",
       "    .dataframe tbody tr th:only-of-type {\n",
       "        vertical-align: middle;\n",
       "    }\n",
       "\n",
       "    .dataframe tbody tr th {\n",
       "        vertical-align: top;\n",
       "    }\n",
       "\n",
       "    .dataframe thead th {\n",
       "        text-align: right;\n",
       "    }\n",
       "</style>\n",
       "<table border=\"1\" class=\"dataframe\">\n",
       "  <thead>\n",
       "    <tr style=\"text-align: right;\">\n",
       "      <th></th>\n",
       "      <th>Final score</th>\n",
       "      <th>Quiz 1</th>\n",
       "      <th>Quiz 2</th>\n",
       "      <th>Quiz 3</th>\n",
       "      <th>Quiz 4</th>\n",
       "      <th>Quiz 5</th>\n",
       "      <th>Quiz 6</th>\n",
       "      <th>Quiz 8.1</th>\n",
       "      <th>Quiz 8.2</th>\n",
       "      <th>Quiz 9.1</th>\n",
       "      <th>Quiz 9.2</th>\n",
       "      <th>Quiz 10.1</th>\n",
       "      <th>Quiz 10.2</th>\n",
       "      <th>Final exam</th>\n",
       "      <th>Letter</th>\n",
       "    </tr>\n",
       "  </thead>\n",
       "  <tbody>\n",
       "    <tr>\n",
       "      <th>0</th>\n",
       "      <td>88.85</td>\n",
       "      <td>34.5</td>\n",
       "      <td>45.0</td>\n",
       "      <td>46.2</td>\n",
       "      <td>37.0</td>\n",
       "      <td>37.25</td>\n",
       "      <td>36.25</td>\n",
       "      <td>9.5</td>\n",
       "      <td>26.0</td>\n",
       "      <td>11.00000</td>\n",
       "      <td>26.50</td>\n",
       "      <td>11.0</td>\n",
       "      <td>16.02</td>\n",
       "      <td>266.66666</td>\n",
       "      <td>B</td>\n",
       "    </tr>\n",
       "    <tr>\n",
       "      <th>1</th>\n",
       "      <td>74.05</td>\n",
       "      <td>29.5</td>\n",
       "      <td>12.0</td>\n",
       "      <td>21.0</td>\n",
       "      <td>11.0</td>\n",
       "      <td>7.50</td>\n",
       "      <td>32.00</td>\n",
       "      <td>11.0</td>\n",
       "      <td>28.5</td>\n",
       "      <td>10.33333</td>\n",
       "      <td>21.50</td>\n",
       "      <td>10.0</td>\n",
       "      <td>15.48</td>\n",
       "      <td>212.66667</td>\n",
       "      <td>C</td>\n",
       "    </tr>\n",
       "    <tr>\n",
       "      <th>2</th>\n",
       "      <td>63.05</td>\n",
       "      <td>28.3</td>\n",
       "      <td>23.0</td>\n",
       "      <td>3.0</td>\n",
       "      <td>10.0</td>\n",
       "      <td>24.00</td>\n",
       "      <td>30.00</td>\n",
       "      <td>8.5</td>\n",
       "      <td>30.0</td>\n",
       "      <td>6.33333</td>\n",
       "      <td>0.00</td>\n",
       "      <td>12.0</td>\n",
       "      <td>12.96</td>\n",
       "      <td>187.50000</td>\n",
       "      <td>D</td>\n",
       "    </tr>\n",
       "    <tr>\n",
       "      <th>3</th>\n",
       "      <td>96.49</td>\n",
       "      <td>40.0</td>\n",
       "      <td>49.0</td>\n",
       "      <td>45.9</td>\n",
       "      <td>40.0</td>\n",
       "      <td>39.95</td>\n",
       "      <td>39.00</td>\n",
       "      <td>9.5</td>\n",
       "      <td>31.0</td>\n",
       "      <td>11.00000</td>\n",
       "      <td>26.50</td>\n",
       "      <td>10.0</td>\n",
       "      <td>13.37</td>\n",
       "      <td>277.50000</td>\n",
       "      <td>A</td>\n",
       "    </tr>\n",
       "    <tr>\n",
       "      <th>4</th>\n",
       "      <td>81.72</td>\n",
       "      <td>40.0</td>\n",
       "      <td>48.5</td>\n",
       "      <td>45.0</td>\n",
       "      <td>35.0</td>\n",
       "      <td>34.50</td>\n",
       "      <td>34.80</td>\n",
       "      <td>10.5</td>\n",
       "      <td>32.0</td>\n",
       "      <td>11.00000</td>\n",
       "      <td>20.15</td>\n",
       "      <td>11.0</td>\n",
       "      <td>12.42</td>\n",
       "      <td>154.33333</td>\n",
       "      <td>B</td>\n",
       "    </tr>\n",
       "  </tbody>\n",
       "</table>\n",
       "</div>"
      ],
      "text/plain": [
       "   Final score  Quiz 1  Quiz 2  Quiz 3  Quiz 4  Quiz 5  Quiz 6  Quiz 8.1  \\\n",
       "0        88.85    34.5    45.0    46.2    37.0   37.25   36.25       9.5   \n",
       "1        74.05    29.5    12.0    21.0    11.0    7.50   32.00      11.0   \n",
       "2        63.05    28.3    23.0     3.0    10.0   24.00   30.00       8.5   \n",
       "3        96.49    40.0    49.0    45.9    40.0   39.95   39.00       9.5   \n",
       "4        81.72    40.0    48.5    45.0    35.0   34.50   34.80      10.5   \n",
       "\n",
       "   Quiz 8.2  Quiz 9.1  Quiz 9.2  Quiz 10.1  Quiz 10.2  Final exam Letter  \n",
       "0      26.0  11.00000     26.50       11.0      16.02   266.66666      B  \n",
       "1      28.5  10.33333     21.50       10.0      15.48   212.66667      C  \n",
       "2      30.0   6.33333      0.00       12.0      12.96   187.50000      D  \n",
       "3      31.0  11.00000     26.50       10.0      13.37   277.50000      A  \n",
       "4      32.0  11.00000     20.15       11.0      12.42   154.33333      B  "
      ]
     },
     "execution_count": 39,
     "metadata": {},
     "output_type": "execute_result"
    }
   ],
   "source": [
    "labels = ('F', 'D', 'C', 'B', 'A')\n",
    "grades[\"Letter\"] = pd.cut(grades[\"Final score\"], [0, 60, 70, 80, 90, 100], labels=labels) \n",
    "grades.head()"
   ]
  },
  {
   "cell_type": "code",
   "execution_count": 36,
   "metadata": {},
   "outputs": [
    {
     "name": "stdout",
     "output_type": "stream",
     "text": [
      "Score=0.535\n",
      "   F   D  C  B  A\n",
      "F  0   0  0  0  0\n",
      "D  2  16  6  4  1\n",
      "C  0   1  6  2  2\n",
      "B  0   0  0  1  2\n",
      "A  0   0  0  0  0\n"
     ]
    }
   ],
   "source": [
    "X = grades[[\"Quiz 1\", \"Quiz 2\"]]\n",
    "\n",
    "# Fit the model, display the score and the confusion matrix\n",
    "clf.fit(X, grades[\"Letter\"])\n",
    "print(\"Score=%.3f\" % clf.score(X, grades[\"Letter\"]))\n",
    "cm = confusion_matrix(clf.predict(X), grades[\"Letter\"])\n",
    "\n",
    "print(pd.DataFrame(cm, columns=labels, index=labels))"
   ]
  },
  {
   "cell_type": "markdown",
   "metadata": {},
   "source": [
    "## Grouping Data With K-Means Clustering"
   ]
  },
  {
   "cell_type": "code",
   "execution_count": 62,
   "metadata": {},
   "outputs": [
    {
     "data": {
      "text/html": [
       "<div>\n",
       "<style scoped>\n",
       "    .dataframe tbody tr th:only-of-type {\n",
       "        vertical-align: middle;\n",
       "    }\n",
       "\n",
       "    .dataframe tbody tr th {\n",
       "        vertical-align: top;\n",
       "    }\n",
       "\n",
       "    .dataframe thead th {\n",
       "        text-align: right;\n",
       "    }\n",
       "</style>\n",
       "<table border=\"1\" class=\"dataframe\">\n",
       "  <thead>\n",
       "    <tr style=\"text-align: right;\">\n",
       "      <th></th>\n",
       "      <th></th>\n",
       "      <th>Beer</th>\n",
       "      <th>Wine</th>\n",
       "      <th>Spirits</th>\n",
       "    </tr>\n",
       "    <tr>\n",
       "      <th>State</th>\n",
       "      <th>Year</th>\n",
       "      <th></th>\n",
       "      <th></th>\n",
       "      <th></th>\n",
       "    </tr>\n",
       "  </thead>\n",
       "  <tbody>\n",
       "    <tr>\n",
       "      <th rowspan=\"5\" valign=\"top\">Alabama</th>\n",
       "      <th>2009</th>\n",
       "      <td>1.20</td>\n",
       "      <td>0.22</td>\n",
       "      <td>0.58</td>\n",
       "    </tr>\n",
       "    <tr>\n",
       "      <th>2008</th>\n",
       "      <td>1.24</td>\n",
       "      <td>0.22</td>\n",
       "      <td>0.58</td>\n",
       "    </tr>\n",
       "    <tr>\n",
       "      <th>2007</th>\n",
       "      <td>1.24</td>\n",
       "      <td>0.22</td>\n",
       "      <td>0.56</td>\n",
       "    </tr>\n",
       "    <tr>\n",
       "      <th>2006</th>\n",
       "      <td>1.22</td>\n",
       "      <td>0.21</td>\n",
       "      <td>0.55</td>\n",
       "    </tr>\n",
       "    <tr>\n",
       "      <th>2005</th>\n",
       "      <td>1.18</td>\n",
       "      <td>0.20</td>\n",
       "      <td>0.53</td>\n",
       "    </tr>\n",
       "  </tbody>\n",
       "</table>\n",
       "</div>"
      ],
      "text/plain": [
       "              Beer  Wine  Spirits\n",
       "State   Year                     \n",
       "Alabama 2009  1.20  0.22     0.58\n",
       "        2008  1.24  0.22     0.58\n",
       "        2007  1.24  0.22     0.56\n",
       "        2006  1.22  0.21     0.55\n",
       "        2005  1.18  0.20     0.53"
      ]
     },
     "execution_count": 62,
     "metadata": {},
     "output_type": "execute_result"
    }
   ],
   "source": [
    "import matplotlib, matplotlib.pyplot as plt \n",
    "import pickle, pandas as pd\n",
    "import sklearn.cluster, sklearn.preprocessing\n",
    "\n",
    "# The NIAAA frame has been pickled before\n",
    "# alco2009 = pickle.load(open(\"alco2009.pickle\", \"rb\")) # States\" abbreviations\n",
    "alco = pd.read_csv(\"alco2009.csv\").fillna(method='ffill').reset_index().set_index(['State','Year']).drop(['index'], axis=1)\n",
    "alco.head()"
   ]
  },
  {
   "cell_type": "code",
   "execution_count": 78,
   "metadata": {},
   "outputs": [
    {
     "name": "stdout",
     "output_type": "stream",
     "text": [
      "level_years=Int64Index([2009, 2008, 2007, 2006, 2005, 2004, 2003, 2002, 2001, 2000,\n",
      "            ...\n",
      "            1986, 1985, 1984, 1983, 1982, 1981, 1980, 1979, 1978, 1977],\n",
      "           dtype='int64', name='Year', length=1683)\n",
      "level_years_index=[ True False False ... False False False]\n"
     ]
    },
    {
     "data": {
      "text/html": [
       "<div>\n",
       "<style scoped>\n",
       "    .dataframe tbody tr th:only-of-type {\n",
       "        vertical-align: middle;\n",
       "    }\n",
       "\n",
       "    .dataframe tbody tr th {\n",
       "        vertical-align: top;\n",
       "    }\n",
       "\n",
       "    .dataframe thead th {\n",
       "        text-align: right;\n",
       "    }\n",
       "</style>\n",
       "<table border=\"1\" class=\"dataframe\">\n",
       "  <thead>\n",
       "    <tr style=\"text-align: right;\">\n",
       "      <th></th>\n",
       "      <th>Year</th>\n",
       "      <th>Beer</th>\n",
       "      <th>Wine</th>\n",
       "      <th>Spirits</th>\n",
       "    </tr>\n",
       "    <tr>\n",
       "      <th>State</th>\n",
       "      <th></th>\n",
       "      <th></th>\n",
       "      <th></th>\n",
       "      <th></th>\n",
       "    </tr>\n",
       "  </thead>\n",
       "  <tbody>\n",
       "    <tr>\n",
       "      <th>Alabama</th>\n",
       "      <td>2009</td>\n",
       "      <td>1.20</td>\n",
       "      <td>0.22</td>\n",
       "      <td>0.58</td>\n",
       "    </tr>\n",
       "    <tr>\n",
       "      <th>Alaska</th>\n",
       "      <td>2009</td>\n",
       "      <td>1.31</td>\n",
       "      <td>0.54</td>\n",
       "      <td>1.16</td>\n",
       "    </tr>\n",
       "    <tr>\n",
       "      <th>Arizona</th>\n",
       "      <td>2009</td>\n",
       "      <td>1.19</td>\n",
       "      <td>0.38</td>\n",
       "      <td>0.74</td>\n",
       "    </tr>\n",
       "    <tr>\n",
       "      <th>Arkansas</th>\n",
       "      <td>2009</td>\n",
       "      <td>1.07</td>\n",
       "      <td>0.17</td>\n",
       "      <td>0.60</td>\n",
       "    </tr>\n",
       "    <tr>\n",
       "      <th>California</th>\n",
       "      <td>2009</td>\n",
       "      <td>1.05</td>\n",
       "      <td>0.55</td>\n",
       "      <td>0.73</td>\n",
       "    </tr>\n",
       "  </tbody>\n",
       "</table>\n",
       "</div>"
      ],
      "text/plain": [
       "            Year  Beer  Wine  Spirits\n",
       "State                                \n",
       "Alabama     2009  1.20  0.22     0.58\n",
       "Alaska      2009  1.31  0.54     1.16\n",
       "Arizona     2009  1.19  0.38     0.74\n",
       "Arkansas    2009  1.07  0.17     0.60\n",
       "California  2009  1.05  0.55     0.73"
      ]
     },
     "execution_count": 78,
     "metadata": {},
     "output_type": "execute_result"
    }
   ],
   "source": [
    "# alco2009 = alco.groupby(\"State\").sum()\n",
    "# alco2009 = alco.sum()\n",
    "# alco2009 = alco.reset_index(level=[1]).filter(items=[2009],axis=0)\n",
    "level_years = alco.index.get_level_values('Year')\n",
    "print(\"level_years={}\".format(level_years))\n",
    "\n",
    "level_years_index = level_years.isin([2009])\n",
    "print(\"level_years_index={}\".format(level_years_index))\n",
    "\n",
    "alco2009 = alco[level_years_index]\n",
    "alco2009 = alco2009.reset_index(level=[1])\n",
    "alco2009.head()"
   ]
  },
  {
   "cell_type": "code",
   "execution_count": 79,
   "metadata": {},
   "outputs": [
    {
     "data": {
      "text/html": [
       "<div>\n",
       "<style scoped>\n",
       "    .dataframe tbody tr th:only-of-type {\n",
       "        vertical-align: middle;\n",
       "    }\n",
       "\n",
       "    .dataframe tbody tr th {\n",
       "        vertical-align: top;\n",
       "    }\n",
       "\n",
       "    .dataframe thead th {\n",
       "        text-align: right;\n",
       "    }\n",
       "</style>\n",
       "<table border=\"1\" class=\"dataframe\">\n",
       "  <thead>\n",
       "    <tr style=\"text-align: right;\">\n",
       "      <th></th>\n",
       "      <th>State</th>\n",
       "      <th>Standard</th>\n",
       "      <th>Postal</th>\n",
       "      <th>Capital</th>\n",
       "    </tr>\n",
       "  </thead>\n",
       "  <tbody>\n",
       "    <tr>\n",
       "      <th>0</th>\n",
       "      <td>State</td>\n",
       "      <td>Standard</td>\n",
       "      <td>Postal</td>\n",
       "      <td>Capital</td>\n",
       "    </tr>\n",
       "    <tr>\n",
       "      <th>1</th>\n",
       "      <td>Alabama</td>\n",
       "      <td>Ala.</td>\n",
       "      <td>AL</td>\n",
       "      <td>Montgomery</td>\n",
       "    </tr>\n",
       "    <tr>\n",
       "      <th>2</th>\n",
       "      <td>Alaska</td>\n",
       "      <td>Alaska</td>\n",
       "      <td>AK</td>\n",
       "      <td>Juneau</td>\n",
       "    </tr>\n",
       "    <tr>\n",
       "      <th>3</th>\n",
       "      <td>Arizona</td>\n",
       "      <td>Ariz.</td>\n",
       "      <td>AZ</td>\n",
       "      <td>Phoenix</td>\n",
       "    </tr>\n",
       "    <tr>\n",
       "      <th>4</th>\n",
       "      <td>Arkansas</td>\n",
       "      <td>Ark.</td>\n",
       "      <td>AR</td>\n",
       "      <td>Little Rock</td>\n",
       "    </tr>\n",
       "  </tbody>\n",
       "</table>\n",
       "</div>"
      ],
      "text/plain": [
       "      State  Standard  Postal      Capital\n",
       "0     State  Standard  Postal      Capital\n",
       "1   Alabama      Ala.      AL   Montgomery\n",
       "2    Alaska    Alaska      AK       Juneau\n",
       "3   Arizona     Ariz.      AZ      Phoenix\n",
       "4  Arkansas      Ark.      AR  Little Rock"
      ]
     },
     "execution_count": 79,
     "metadata": {},
     "output_type": "execute_result"
    }
   ],
   "source": [
    "states = pd.read_csv(\"states.csv\", names=(\"State\", \"Standard\", \"Postal\", \"Capital\")) \n",
    "states.head()\n"
   ]
  },
  {
   "cell_type": "code",
   "execution_count": 80,
   "metadata": {},
   "outputs": [
    {
     "data": {
      "text/html": [
       "<div>\n",
       "<style scoped>\n",
       "    .dataframe tbody tr th:only-of-type {\n",
       "        vertical-align: middle;\n",
       "    }\n",
       "\n",
       "    .dataframe tbody tr th {\n",
       "        vertical-align: top;\n",
       "    }\n",
       "\n",
       "    .dataframe thead th {\n",
       "        text-align: right;\n",
       "    }\n",
       "</style>\n",
       "<table border=\"1\" class=\"dataframe\">\n",
       "  <thead>\n",
       "    <tr style=\"text-align: right;\">\n",
       "      <th></th>\n",
       "      <th>Wine</th>\n",
       "      <th>Beer</th>\n",
       "    </tr>\n",
       "  </thead>\n",
       "  <tbody>\n",
       "    <tr>\n",
       "      <th>0</th>\n",
       "      <td>0.188889</td>\n",
       "      <td>1.133333</td>\n",
       "    </tr>\n",
       "    <tr>\n",
       "      <th>1</th>\n",
       "      <td>0.523750</td>\n",
       "      <td>0.993750</td>\n",
       "    </tr>\n",
       "    <tr>\n",
       "      <th>2</th>\n",
       "      <td>0.236667</td>\n",
       "      <td>1.449167</td>\n",
       "    </tr>\n",
       "    <tr>\n",
       "      <th>3</th>\n",
       "      <td>0.515000</td>\n",
       "      <td>1.615000</td>\n",
       "    </tr>\n",
       "    <tr>\n",
       "      <th>4</th>\n",
       "      <td>0.528571</td>\n",
       "      <td>1.284286</td>\n",
       "    </tr>\n",
       "    <tr>\n",
       "      <th>5</th>\n",
       "      <td>0.960000</td>\n",
       "      <td>1.155000</td>\n",
       "    </tr>\n",
       "    <tr>\n",
       "      <th>6</th>\n",
       "      <td>0.170000</td>\n",
       "      <td>0.700000</td>\n",
       "    </tr>\n",
       "    <tr>\n",
       "      <th>7</th>\n",
       "      <td>0.355556</td>\n",
       "      <td>1.192222</td>\n",
       "    </tr>\n",
       "    <tr>\n",
       "      <th>8</th>\n",
       "      <td>0.840000</td>\n",
       "      <td>1.720000</td>\n",
       "    </tr>\n",
       "  </tbody>\n",
       "</table>\n",
       "</div>"
      ],
      "text/plain": [
       "       Wine      Beer\n",
       "0  0.188889  1.133333\n",
       "1  0.523750  0.993750\n",
       "2  0.236667  1.449167\n",
       "3  0.515000  1.615000\n",
       "4  0.528571  1.284286\n",
       "5  0.960000  1.155000\n",
       "6  0.170000  0.700000\n",
       "7  0.355556  1.192222\n",
       "8  0.840000  1.720000"
      ]
     },
     "execution_count": 80,
     "metadata": {},
     "output_type": "execute_result"
    }
   ],
   "source": [
    "columns = [\"Wine\", \"Beer\"]\n",
    "\n",
    "# Initialize the clustering object, fit the model\n",
    "kmeans = sklearn.cluster.KMeans(n_clusters=9) \n",
    "kmeans.fit(alco2009[columns])\n",
    "\n",
    "alco2009[\"Clusters\"] = kmeans.labels_\n",
    "centers = pd.DataFrame(kmeans.cluster_centers_, columns=columns)\n",
    "centers"
   ]
  },
  {
   "cell_type": "code",
   "execution_count": 81,
   "metadata": {},
   "outputs": [
    {
     "name": "stderr",
     "output_type": "stream",
     "text": [
      "/home/chris/.local/lib/python3.5/site-packages/ipykernel_launcher.py:13: FutureWarning: Sorting because non-concatenation axis is not aligned. A future version\n",
      "of pandas will change to not sort by default.\n",
      "\n",
      "To accept the future behavior, pass 'sort=False'.\n",
      "\n",
      "To retain the current behavior and silence the warning, pass 'sort=True'.\n",
      "\n",
      "  del sys.path[0]\n"
     ]
    },
    {
     "data": {
      "text/plain": [
       "Alabama                 None\n",
       "Alaska                  None\n",
       "Arizona                 None\n",
       "Arkansas                None\n",
       "California              None\n",
       "Colorado                None\n",
       "Connecticut             None\n",
       "Delaware                None\n",
       "District of Columbia    None\n",
       "Florida                 None\n",
       "Georgia                 None\n",
       "Hawaii                  None\n",
       "Idaho                   None\n",
       "Illinois                None\n",
       "Indiana                 None\n",
       "Iowa                    None\n",
       "Kansas                  None\n",
       "Kentucky                None\n",
       "Louisiana               None\n",
       "Maine                   None\n",
       "Maryland                None\n",
       "Massachusetts           None\n",
       "Michigan                None\n",
       "Minnesota               None\n",
       "Mississippi             None\n",
       "Missouri                None\n",
       "Montana                 None\n",
       "Nebraska                None\n",
       "Nevada                  None\n",
       "New Hampshire           None\n",
       "New Jersey              None\n",
       "New Mexico              None\n",
       "New York                None\n",
       "North Carolina          None\n",
       "North Dakota            None\n",
       "Ohio                    None\n",
       "Oklahoma                None\n",
       "Oregon                  None\n",
       "Pennsylvania            None\n",
       "Rhode Island            None\n",
       "South Carolina          None\n",
       "South Dakota            None\n",
       "State                   None\n",
       "Tennessee               None\n",
       "Texas                   None\n",
       "Utah                    None\n",
       "Vermont                 None\n",
       "Virginia                None\n",
       "Washington              None\n",
       "West Virginia           None\n",
       "Wisconsin               None\n",
       "Wyoming                 None\n",
       "dtype: object"
      ]
     },
     "execution_count": 81,
     "metadata": {},
     "output_type": "execute_result"
    },
    {
     "data": {
      "image/png": "[encoded data removed]",
      "text/plain": [
       "<Figure size 432x288 with 2 Axes>"
      ]
     },
     "metadata": {},
     "output_type": "display_data"
    }
   ],
   "source": [
    "# Select a good-looking style\n",
    "matplotlib.style.use(\"ggplot\")\n",
    "\n",
    "# Plot the states and cluster centroids\n",
    "ax = alco2009.plot.scatter(columns[0], columns[1], c=\"Clusters\", cmap=plt.cm.Accent, s=100)\n",
    "centers.plot.scatter(columns[0], columns[1], color=\"red\", marker=\"+\", s=200, ax=ax)\n",
    "\n",
    "# Add state abbreviations as annotations\n",
    "def add_abbr(state):\n",
    "    _ = ax.annotate(state[\"Postal\"], state[columns], xytext=(1, 5), \n",
    "                    textcoords=\"offset points\", size=8, color=\"darkslategrey\")\n",
    "    \n",
    "alco2009withStates = pd.concat([alco2009, states.set_index(\"State\")], axis=1)\n",
    "alco2009withStates.apply(add_abbr, axis=1)\n",
    "\n",
    "# Add the title, save the plot\n",
    "# plt.title(\"US States Clustered by Alcohol Consumption\") plt.savefig(\"../images/clusters.pdf\")"
   ]
  },
  {
   "cell_type": "markdown",
   "metadata": {},
   "source": [
    "## Random Decision Forest"
   ]
  },
  {
   "cell_type": "code",
   "execution_count": 86,
   "metadata": {},
   "outputs": [
    {
     "data": {
      "text/plain": [
       "RandomForestRegressor(bootstrap=True, criterion='mse', max_depth=None,\n",
       "           max_features='auto', max_leaf_nodes=None,\n",
       "           min_impurity_decrease=0.0, min_impurity_split=None,\n",
       "           min_samples_leaf=1, min_samples_split=2,\n",
       "           min_weight_fraction_leaf=0.0, n_estimators=10, n_jobs=1,\n",
       "           oob_score=False, random_state=None, verbose=0, warm_start=False)"
      ]
     },
     "execution_count": 86,
     "metadata": {},
     "output_type": "execute_result"
    }
   ],
   "source": [
    "from sklearn.ensemble import RandomForestRegressor \n",
    "import pandas as pd, numpy.random as rnd\n",
    "import matplotlib, matplotlib.pyplot as plt\n",
    "\n",
    "# Read the data, prepare two random complementary data sets\n",
    "hed = pd.read_csv('Hedonic.csv')\n",
    "selection = rnd.binomial(1, 0.7, size=len(hed)).astype(bool) \n",
    "training = hed[selection]\n",
    "testing = hed[~selection]\n",
    "\n",
    "# Create a regressor and predictor sets\n",
    "rfr = RandomForestRegressor()\n",
    "predictors_tra = training.loc[:, \"crim\" : \"lstat\"] \n",
    "predictors_tst = testing.loc[:, \"crim\" : \"lstat\"]\n",
    "\n",
    "# Fit the model\n",
    "feature = \"mv\"\n",
    "rfr.fit(predictors_tra, training[feature])"
   ]
  },
  {
   "cell_type": "code",
   "execution_count": 87,
   "metadata": {},
   "outputs": [
    {
     "data": {
      "text/plain": [
       "Text(0,0.5,'Predicted value')"
      ]
     },
     "execution_count": 87,
     "metadata": {},
     "output_type": "execute_result"
    },
    {
     "data": {
      "image/png": "[encoded data removed]",
      "text/plain": [
       "<Figure size 432x288 with 1 Axes>"
      ]
     },
     "metadata": {},
     "output_type": "display_data"
    }
   ],
   "source": [
    "# Select a good-locking style\n",
    "matplotlib.style.use(\"ggplot\")\n",
    "\n",
    "# Plot the prediction results\n",
    "plt.scatter(training[feature], rfr.predict(predictors_tra), c=\"green\", s=50)\n",
    "plt.scatter(testing[feature], rfr.predict(predictors_tst), c=\"red\") \n",
    "plt.legend([\"Training data\", \"Testing data\"], loc=\"upper left\") \n",
    "plt.plot(training[feature], training[feature], c=\"blue\") \n",
    "plt.title(\"Hedonic Prices of Census Tracts in the Boston Area\") \n",
    "plt.xlabel(\"Actual value\")\n",
    "plt.ylabel(\"Predicted value\") \n",
    "# plt.savefig(\"../images/rfr.pdf\")"
   ]
  },
  {
   "cell_type": "code",
   "execution_count": null,
   "metadata": {},
   "outputs": [],
   "source": []
  }
 ],
 "metadata": {
  "kernelspec": {
   "display_name": "Python 3",
   "language": "python",
   "name": "python3"
  },
  "language_info": {
   "codemirror_mode": {
    "name": "ipython",
    "version": 3
   },
   "file_extension": ".py",
   "mimetype": "text/x-python",
   "name": "python",
   "nbconvert_exporter": "python",
   "pygments_lexer": "ipython3",
   "version": "3.5.2"
  }
 },
 "nbformat": 4,
 "nbformat_minor": 2
}
