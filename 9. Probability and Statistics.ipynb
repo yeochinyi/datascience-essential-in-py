{
 "cells": [
  {
   "cell_type": "code",
   "execution_count": 94,
   "metadata": {},
   "outputs": [
    {
     "name": "stdout",
     "output_type": "stream",
     "text": [
      "      col1  col2\n",
      "col1   1.0   1.0\n",
      "col2   1.0   1.0\n",
      "      col1  col2\n",
      "col1   0.5   0.5\n",
      "col2   0.5   0.5\n"
     ]
    }
   ],
   "source": [
    "df = pd.DataFrame({'col1': [1, 2], 'col2': [3, 4]})\n",
    "print(df.corr())\n",
    "print(df.cov())"
   ]
  },
  {
   "cell_type": "code",
   "execution_count": 1,
   "metadata": {},
   "outputs": [],
   "source": [
    "import numpy.random as rnd \n",
    "rnd.seed(1)\n"
   ]
  },
  {
   "cell_type": "code",
   "execution_count": 2,
   "metadata": {},
   "outputs": [],
   "source": [
    "# rnd.uniform(low=0.0, high=1.0, size=None) \n",
    "# rnd.rand(shape) # Same as uniform(0.0, 1.0, None) \n",
    "# rnd.randint(low, high=None, size=None) \n",
    "# rnd.normal(loc=0.0, scale=1.0, size=None) \n",
    "# rnd.randn(shape) # Same as normal(0.0, 1.0, shape) \n",
    "# rnd.binomial(n, p, size=None)\n"
   ]
  },
  {
   "cell_type": "code",
   "execution_count": 3,
   "metadata": {},
   "outputs": [],
   "source": [
    "import pandas as pd\n",
    "\n",
    "alco = pd.read_csv(\"alco2009.csv\").fillna(method='ffill').reset_index().set_index(['State','Year']).drop(['index'], axis=1)"
   ]
  },
  {
   "cell_type": "code",
   "execution_count": 5,
   "metadata": {},
   "outputs": [
    {
     "data": {
      "text/html": [
       "<div>\n",
       "<style scoped>\n",
       "    .dataframe tbody tr th:only-of-type {\n",
       "        vertical-align: middle;\n",
       "    }\n",
       "\n",
       "    .dataframe tbody tr th {\n",
       "        vertical-align: top;\n",
       "    }\n",
       "\n",
       "    .dataframe thead th {\n",
       "        text-align: right;\n",
       "    }\n",
       "</style>\n",
       "<table border=\"1\" class=\"dataframe\">\n",
       "  <thead>\n",
       "    <tr style=\"text-align: right;\">\n",
       "      <th></th>\n",
       "      <th></th>\n",
       "      <th>Beer</th>\n",
       "      <th>Wine</th>\n",
       "      <th>Spirits</th>\n",
       "    </tr>\n",
       "    <tr>\n",
       "      <th>State</th>\n",
       "      <th>Year</th>\n",
       "      <th></th>\n",
       "      <th></th>\n",
       "      <th></th>\n",
       "    </tr>\n",
       "  </thead>\n",
       "  <tbody>\n",
       "    <tr>\n",
       "      <th rowspan=\"5\" valign=\"top\">Alabama</th>\n",
       "      <th>2009</th>\n",
       "      <td>1.20</td>\n",
       "      <td>0.22</td>\n",
       "      <td>0.58</td>\n",
       "    </tr>\n",
       "    <tr>\n",
       "      <th>2008</th>\n",
       "      <td>1.24</td>\n",
       "      <td>0.22</td>\n",
       "      <td>0.58</td>\n",
       "    </tr>\n",
       "    <tr>\n",
       "      <th>2007</th>\n",
       "      <td>1.24</td>\n",
       "      <td>0.22</td>\n",
       "      <td>0.56</td>\n",
       "    </tr>\n",
       "    <tr>\n",
       "      <th>2006</th>\n",
       "      <td>1.22</td>\n",
       "      <td>0.21</td>\n",
       "      <td>0.55</td>\n",
       "    </tr>\n",
       "    <tr>\n",
       "      <th>2005</th>\n",
       "      <td>1.18</td>\n",
       "      <td>0.20</td>\n",
       "      <td>0.53</td>\n",
       "    </tr>\n",
       "  </tbody>\n",
       "</table>\n",
       "</div>"
      ],
      "text/plain": [
       "              Beer  Wine  Spirits\n",
       "State   Year                     \n",
       "Alabama 2009  1.20  0.22     0.58\n",
       "        2008  1.24  0.22     0.58\n",
       "        2007  1.24  0.22     0.56\n",
       "        2006  1.22  0.21     0.55\n",
       "        2005  1.18  0.20     0.53"
      ]
     },
     "execution_count": 5,
     "metadata": {},
     "output_type": "execute_result"
    }
   ],
   "source": [
    "alco.head()"
   ]
  },
  {
   "cell_type": "code",
   "execution_count": 85,
   "metadata": {},
   "outputs": [
    {
     "data": {
      "text/plain": [
       "Beer       0.91\n",
       "Wine       0.46\n",
       "Spirits    0.69\n",
       "Name: (New York, 2009), dtype: float64"
      ]
     },
     "execution_count": 85,
     "metadata": {},
     "output_type": "execute_result"
    }
   ],
   "source": [
    "alco.loc[('New York',2009)]"
   ]
  },
  {
   "cell_type": "code",
   "execution_count": 4,
   "metadata": {},
   "outputs": [
    {
     "data": {
      "text/plain": [
       "0.9709778539165477"
      ]
     },
     "execution_count": 4,
     "metadata": {},
     "output_type": "execute_result"
    }
   ],
   "source": [
    "beer_seriesNY = alco.loc['New York']['Beer']\n",
    "beer_seriesCA = alco.loc['California']['Beer']\n",
    "beer_seriesNY.corr(beer_seriesCA)"
   ]
  },
  {
   "cell_type": "code",
   "execution_count": 7,
   "metadata": {},
   "outputs": [
    {
     "data": {
      "text/plain": [
       "0.01743816287878787"
      ]
     },
     "execution_count": 7,
     "metadata": {},
     "output_type": "execute_result"
    }
   ],
   "source": [
    "beer_seriesCA.cov(beer_seriesNY)"
   ]
  },
  {
   "cell_type": "code",
   "execution_count": 8,
   "metadata": {},
   "outputs": [
    {
     "data": {
      "text/plain": [
       "[0.16457291292976317, 0.32838100586311286]"
      ]
     },
     "execution_count": 8,
     "metadata": {},
     "output_type": "execute_result"
    }
   ],
   "source": [
    "[x.skew() for x in (beer_seriesCA, beer_seriesNY)]"
   ]
  },
  {
   "cell_type": "code",
   "execution_count": 6,
   "metadata": {},
   "outputs": [
    {
     "data": {
      "text/plain": [
       "Beer       0.328381\n",
       "Wine       0.127308\n",
       "Spirits    0.656699\n",
       "dtype: float64"
      ]
     },
     "execution_count": 6,
     "metadata": {},
     "output_type": "execute_result"
    }
   ],
   "source": [
    "frameNY = alco.loc['New York'] \n",
    "frameNY.skew()"
   ]
  },
  {
   "cell_type": "code",
   "execution_count": 7,
   "metadata": {},
   "outputs": [
    {
     "data": {
      "text/html": [
       "<div>\n",
       "<style scoped>\n",
       "    .dataframe tbody tr th:only-of-type {\n",
       "        vertical-align: middle;\n",
       "    }\n",
       "\n",
       "    .dataframe tbody tr th {\n",
       "        vertical-align: top;\n",
       "    }\n",
       "\n",
       "    .dataframe thead th {\n",
       "        text-align: right;\n",
       "    }\n",
       "</style>\n",
       "<table border=\"1\" class=\"dataframe\">\n",
       "  <thead>\n",
       "    <tr style=\"text-align: right;\">\n",
       "      <th></th>\n",
       "      <th>Beer</th>\n",
       "      <th>Wine</th>\n",
       "      <th>Spirits</th>\n",
       "    </tr>\n",
       "  </thead>\n",
       "  <tbody>\n",
       "    <tr>\n",
       "      <th>Beer</th>\n",
       "      <td>1.000000</td>\n",
       "      <td>0.470690</td>\n",
       "      <td>0.908969</td>\n",
       "    </tr>\n",
       "    <tr>\n",
       "      <th>Wine</th>\n",
       "      <td>0.470690</td>\n",
       "      <td>1.000000</td>\n",
       "      <td>0.611923</td>\n",
       "    </tr>\n",
       "    <tr>\n",
       "      <th>Spirits</th>\n",
       "      <td>0.908969</td>\n",
       "      <td>0.611923</td>\n",
       "      <td>1.000000</td>\n",
       "    </tr>\n",
       "  </tbody>\n",
       "</table>\n",
       "</div>"
      ],
      "text/plain": [
       "             Beer      Wine   Spirits\n",
       "Beer     1.000000  0.470690  0.908969\n",
       "Wine     0.470690  1.000000  0.611923\n",
       "Spirits  0.908969  0.611923  1.000000"
      ]
     },
     "execution_count": 7,
     "metadata": {},
     "output_type": "execute_result"
    }
   ],
   "source": [
    "frameNY.corr() # all pairwise correlations"
   ]
  },
  {
   "cell_type": "code",
   "execution_count": 8,
   "metadata": {},
   "outputs": [
    {
     "data": {
      "text/html": [
       "<div>\n",
       "<style scoped>\n",
       "    .dataframe tbody tr th:only-of-type {\n",
       "        vertical-align: middle;\n",
       "    }\n",
       "\n",
       "    .dataframe tbody tr th {\n",
       "        vertical-align: top;\n",
       "    }\n",
       "\n",
       "    .dataframe thead th {\n",
       "        text-align: right;\n",
       "    }\n",
       "</style>\n",
       "<table border=\"1\" class=\"dataframe\">\n",
       "  <thead>\n",
       "    <tr style=\"text-align: right;\">\n",
       "      <th></th>\n",
       "      <th>Beer</th>\n",
       "      <th>Wine</th>\n",
       "      <th>Spirits</th>\n",
       "    </tr>\n",
       "  </thead>\n",
       "  <tbody>\n",
       "    <tr>\n",
       "      <th>Beer</th>\n",
       "      <td>0.016103</td>\n",
       "      <td>0.002872</td>\n",
       "      <td>0.026020</td>\n",
       "    </tr>\n",
       "    <tr>\n",
       "      <th>Wine</th>\n",
       "      <td>0.002872</td>\n",
       "      <td>0.002312</td>\n",
       "      <td>0.006638</td>\n",
       "    </tr>\n",
       "    <tr>\n",
       "      <th>Spirits</th>\n",
       "      <td>0.026020</td>\n",
       "      <td>0.006638</td>\n",
       "      <td>0.050888</td>\n",
       "    </tr>\n",
       "  </tbody>\n",
       "</table>\n",
       "</div>"
      ],
      "text/plain": [
       "             Beer      Wine   Spirits\n",
       "Beer     0.016103  0.002872  0.026020\n",
       "Wine     0.002872  0.002312  0.006638\n",
       "Spirits  0.026020  0.006638  0.050888"
      ]
     },
     "execution_count": 8,
     "metadata": {},
     "output_type": "execute_result"
    }
   ],
   "source": [
    "frameNY.cov() # all pairwise covariances"
   ]
  },
  {
   "cell_type": "code",
   "execution_count": 9,
   "metadata": {},
   "outputs": [
    {
     "data": {
      "text/html": [
       "<div>\n",
       "<style scoped>\n",
       "    .dataframe tbody tr th:only-of-type {\n",
       "        vertical-align: middle;\n",
       "    }\n",
       "\n",
       "    .dataframe tbody tr th {\n",
       "        vertical-align: top;\n",
       "    }\n",
       "\n",
       "    .dataframe thead th {\n",
       "        text-align: right;\n",
       "    }\n",
       "</style>\n",
       "<table border=\"1\" class=\"dataframe\">\n",
       "  <thead>\n",
       "    <tr style=\"text-align: right;\">\n",
       "      <th></th>\n",
       "      <th>2010</th>\n",
       "      <th>2009</th>\n",
       "      <th>2008</th>\n",
       "      <th>2007</th>\n",
       "      <th>2006</th>\n",
       "      <th>2005</th>\n",
       "      <th>2004</th>\n",
       "      <th>2003</th>\n",
       "      <th>2002</th>\n",
       "      <th>2001</th>\n",
       "      <th>2000</th>\n",
       "    </tr>\n",
       "    <tr>\n",
       "      <th>State</th>\n",
       "      <th></th>\n",
       "      <th></th>\n",
       "      <th></th>\n",
       "      <th></th>\n",
       "      <th></th>\n",
       "      <th></th>\n",
       "      <th></th>\n",
       "      <th></th>\n",
       "      <th></th>\n",
       "      <th></th>\n",
       "      <th></th>\n",
       "    </tr>\n",
       "  </thead>\n",
       "  <tbody>\n",
       "    <tr>\n",
       "      <th>Alabama</th>\n",
       "      <td>4729656</td>\n",
       "      <td>4707496</td>\n",
       "      <td>4673889</td>\n",
       "      <td>4634063</td>\n",
       "      <td>4594911</td>\n",
       "      <td>4542912</td>\n",
       "      <td>4510588</td>\n",
       "      <td>4489876</td>\n",
       "      <td>4471462</td>\n",
       "      <td>4463343</td>\n",
       "      <td>4451497</td>\n",
       "    </tr>\n",
       "    <tr>\n",
       "      <th>Alaska</th>\n",
       "      <td>708862</td>\n",
       "      <td>694690</td>\n",
       "      <td>685532</td>\n",
       "      <td>679893</td>\n",
       "      <td>675322</td>\n",
       "      <td>667114</td>\n",
       "      <td>659305</td>\n",
       "      <td>647671</td>\n",
       "      <td>641974</td>\n",
       "      <td>633538</td>\n",
       "      <td>627748</td>\n",
       "    </tr>\n",
       "    <tr>\n",
       "      <th>Arizona</th>\n",
       "      <td>6676627</td>\n",
       "      <td>6587653</td>\n",
       "      <td>6499207</td>\n",
       "      <td>6360238</td>\n",
       "      <td>6190987</td>\n",
       "      <td>5973970</td>\n",
       "      <td>5758692</td>\n",
       "      <td>5590820</td>\n",
       "      <td>5451472</td>\n",
       "      <td>5303869</td>\n",
       "      <td>5166304</td>\n",
       "    </tr>\n",
       "    <tr>\n",
       "      <th>Arkansas</th>\n",
       "      <td>2910236</td>\n",
       "      <td>2887331</td>\n",
       "      <td>2867099</td>\n",
       "      <td>2841595</td>\n",
       "      <td>2814910</td>\n",
       "      <td>2776257</td>\n",
       "      <td>2746215</td>\n",
       "      <td>2722804</td>\n",
       "      <td>2704471</td>\n",
       "      <td>2690743</td>\n",
       "      <td>2678115</td>\n",
       "    </tr>\n",
       "    <tr>\n",
       "      <th>California</th>\n",
       "      <td>37266600</td>\n",
       "      <td>36887615</td>\n",
       "      <td>36538008</td>\n",
       "      <td>36185908</td>\n",
       "      <td>35947461</td>\n",
       "      <td>35770688</td>\n",
       "      <td>35538256</td>\n",
       "      <td>35236589</td>\n",
       "      <td>34867773</td>\n",
       "      <td>34481753</td>\n",
       "      <td>33994383</td>\n",
       "    </tr>\n",
       "  </tbody>\n",
       "</table>\n",
       "</div>"
      ],
      "text/plain": [
       "                2010      2009      2008      2007      2006      2005  \\\n",
       "State                                                                    \n",
       "Alabama      4729656   4707496   4673889   4634063   4594911   4542912   \n",
       "Alaska        708862    694690    685532    679893    675322    667114   \n",
       "Arizona      6676627   6587653   6499207   6360238   6190987   5973970   \n",
       "Arkansas     2910236   2887331   2867099   2841595   2814910   2776257   \n",
       "California  37266600  36887615  36538008  36185908  35947461  35770688   \n",
       "\n",
       "                2004      2003      2002      2001      2000  \n",
       "State                                                         \n",
       "Alabama      4510588   4489876   4471462   4463343   4451497  \n",
       "Alaska        659305    647671    641974    633538    627748  \n",
       "Arizona      5758692   5590820   5451472   5303869   5166304  \n",
       "Arkansas     2746215   2722804   2704471   2690743   2678115  \n",
       "California  35538256  35236589  34867773  34481753  33994383  "
      ]
     },
     "execution_count": 9,
     "metadata": {},
     "output_type": "execute_result"
    }
   ],
   "source": [
    "pop = pd.read_csv(\"population.csv\").set_index('State')\n",
    "pop.head()"
   ]
  },
  {
   "cell_type": "code",
   "execution_count": 10,
   "metadata": {},
   "outputs": [
    {
     "data": {
      "text/plain": [
       "2010    19577730\n",
       "2009    19522612\n",
       "2008    19464482\n",
       "2007    19419540\n",
       "2006    19353588\n",
       "Name: New York, dtype: int64"
      ]
     },
     "execution_count": 10,
     "metadata": {},
     "output_type": "execute_result"
    }
   ],
   "source": [
    "# Remove the last two lines: they contain future estimates\n",
    "# pop_seriesNY = pop.ix[\"New York\"][:-2]\n",
    "pop_seriesNY = pop.loc[\"New York\"]\n",
    "pop_seriesNY.head()"
   ]
  },
  {
   "cell_type": "code",
   "execution_count": 46,
   "metadata": {},
   "outputs": [
    {
     "data": {
      "text/plain": [
       "pandas.core.series.Series"
      ]
     },
     "execution_count": 46,
     "metadata": {},
     "output_type": "execute_result"
    }
   ],
   "source": [
    "type(pop_seriesNY)"
   ]
  },
  {
   "cell_type": "code",
   "execution_count": 21,
   "metadata": {},
   "outputs": [
    {
     "data": {
      "text/html": [
       "<div>\n",
       "<style scoped>\n",
       "    .dataframe tbody tr th:only-of-type {\n",
       "        vertical-align: middle;\n",
       "    }\n",
       "\n",
       "    .dataframe tbody tr th {\n",
       "        vertical-align: top;\n",
       "    }\n",
       "\n",
       "    .dataframe thead th {\n",
       "        text-align: right;\n",
       "    }\n",
       "</style>\n",
       "<table border=\"1\" class=\"dataframe\">\n",
       "  <thead>\n",
       "    <tr style=\"text-align: right;\">\n",
       "      <th></th>\n",
       "      <th>New York</th>\n",
       "    </tr>\n",
       "  </thead>\n",
       "  <tbody>\n",
       "    <tr>\n",
       "      <th>2010</th>\n",
       "      <td>19577730</td>\n",
       "    </tr>\n",
       "    <tr>\n",
       "      <th>2009</th>\n",
       "      <td>19522612</td>\n",
       "    </tr>\n",
       "    <tr>\n",
       "      <th>2008</th>\n",
       "      <td>19464482</td>\n",
       "    </tr>\n",
       "    <tr>\n",
       "      <th>2007</th>\n",
       "      <td>19419540</td>\n",
       "    </tr>\n",
       "    <tr>\n",
       "      <th>2006</th>\n",
       "      <td>19353588</td>\n",
       "    </tr>\n",
       "    <tr>\n",
       "      <th>2005</th>\n",
       "      <td>19329398</td>\n",
       "    </tr>\n",
       "    <tr>\n",
       "      <th>2004</th>\n",
       "      <td>19297907</td>\n",
       "    </tr>\n",
       "    <tr>\n",
       "      <th>2003</th>\n",
       "      <td>19235015</td>\n",
       "    </tr>\n",
       "    <tr>\n",
       "      <th>2002</th>\n",
       "      <td>19161568</td>\n",
       "    </tr>\n",
       "    <tr>\n",
       "      <th>2001</th>\n",
       "      <td>19087486</td>\n",
       "    </tr>\n",
       "    <tr>\n",
       "      <th>2000</th>\n",
       "      <td>18996959</td>\n",
       "    </tr>\n",
       "  </tbody>\n",
       "</table>\n",
       "</div>"
      ],
      "text/plain": [
       "      New York\n",
       "2010  19577730\n",
       "2009  19522612\n",
       "2008  19464482\n",
       "2007  19419540\n",
       "2006  19353588\n",
       "2005  19329398\n",
       "2004  19297907\n",
       "2003  19235015\n",
       "2002  19161568\n",
       "2001  19087486\n",
       "2000  18996959"
      ]
     },
     "execution_count": 21,
     "metadata": {},
     "output_type": "execute_result"
    }
   ],
   "source": [
    "pop_year_index_ny = pop_seriesNY.to_frame()\n",
    "pop_year_index_ny"
   ]
  },
  {
   "cell_type": "code",
   "execution_count": 30,
   "metadata": {},
   "outputs": [
    {
     "data": {
      "text/plain": [
       "Index(['Beer', 'Wine', 'Spirits'], dtype='object')"
      ]
     },
     "execution_count": 30,
     "metadata": {},
     "output_type": "execute_result"
    }
   ],
   "source": [
    "frameNY.columns"
   ]
  },
  {
   "cell_type": "code",
   "execution_count": 42,
   "metadata": {},
   "outputs": [
    {
     "name": "stdout",
     "output_type": "stream",
     "text": [
      "Int64Index([2010, 2009, 2008, 2007, 2006, 2005, 2004, 2003, 2002, 2001, 2000], dtype='int64')\n",
      "Int64Index([2009, 2008, 2007, 2006, 2005, 2004, 2003, 2002, 2001, 2000, 1999,\n",
      "            1998, 1997, 1996, 1995, 1994, 1993, 1992, 1991, 1990, 1989, 1988,\n",
      "            1987, 1986, 1985, 1984, 1983, 1982, 1981, 1980, 1979, 1978, 1977],\n",
      "           dtype='int64', name='Year')\n"
     ]
    }
   ],
   "source": [
    "# Convert the index from date to integer year\n",
    "pop_seriesNY.index = pop_seriesNY.index.str.split().str[-1].astype(int)\n",
    "# frameNY.ix[2000:2009].corrwith(pop_seriesNY)\n",
    "\n",
    "print(pop_seriesNY.index)\n",
    "print(frameNY.index)"
   ]
  },
  {
   "cell_type": "code",
   "execution_count": 47,
   "metadata": {},
   "outputs": [
    {
     "data": {
      "text/plain": [
       "Beer      -0.523108\n",
       "Wine       0.937146\n",
       "Spirits    0.956595\n",
       "dtype: float64"
      ]
     },
     "execution_count": 47,
     "metadata": {},
     "output_type": "execute_result"
    }
   ],
   "source": [
    "frameNY.corrwith(pop_seriesNY)"
   ]
  },
  {
   "cell_type": "code",
   "execution_count": 39,
   "metadata": {},
   "outputs": [
    {
     "name": "stdout",
     "output_type": "stream",
     "text": [
      "RangeIndex(start=0, stop=5, step=1)\n",
      "RangeIndex(start=0, stop=5, step=1)\n"
     ]
    },
    {
     "data": {
      "text/plain": [
       "A    0.111382\n",
       "B   -0.566170\n",
       "C    0.360060\n",
       "dtype: float64"
      ]
     },
     "execution_count": 39,
     "metadata": {},
     "output_type": "execute_result"
    }
   ],
   "source": [
    "import numpy as np\n",
    "x = pd.DataFrame(np.random.randn(5,3),columns=['A','B','C'])\n",
    "# y = pd.DataFrame(np.random.randn(5,3),columns=['A','B','C'])\n",
    "y = pd.Series(np.random.randn(5))\n",
    "# x1 = pd.DataFrame(x.ix[:,0])\n",
    "print(x.index)\n",
    "print(y.index)\n",
    "x.corrwith(y)"
   ]
  },
  {
   "cell_type": "code",
   "execution_count": 65,
   "metadata": {},
   "outputs": [
    {
     "data": {
      "text/plain": [
       "2000    18996959\n",
       "2001    19087486\n",
       "2002    19161568\n",
       "2003    19235015\n",
       "2004    19297907\n",
       "2005    19329398\n",
       "2006    19353588\n",
       "2007    19419540\n",
       "2008    19464482\n",
       "2009    19522612\n",
       "Name: New York, dtype: int64"
      ]
     },
     "execution_count": 65,
     "metadata": {},
     "output_type": "execute_result"
    }
   ],
   "source": [
    "from scipy.stats import pearsonr\n",
    "\n",
    "# Manually align the indexes\n",
    "pop_sorted = pop_seriesNY.sort_index()[:-1]\n",
    "pop_sorted"
   ]
  },
  {
   "cell_type": "code",
   "execution_count": 70,
   "metadata": {},
   "outputs": [
    {
     "data": {
      "text/html": [
       "<div>\n",
       "<style scoped>\n",
       "    .dataframe tbody tr th:only-of-type {\n",
       "        vertical-align: middle;\n",
       "    }\n",
       "\n",
       "    .dataframe tbody tr th {\n",
       "        vertical-align: top;\n",
       "    }\n",
       "\n",
       "    .dataframe thead th {\n",
       "        text-align: right;\n",
       "    }\n",
       "</style>\n",
       "<table border=\"1\" class=\"dataframe\">\n",
       "  <thead>\n",
       "    <tr style=\"text-align: right;\">\n",
       "      <th></th>\n",
       "      <th>Beer</th>\n",
       "      <th>Wine</th>\n",
       "      <th>Spirits</th>\n",
       "    </tr>\n",
       "    <tr>\n",
       "      <th>Year</th>\n",
       "      <th></th>\n",
       "      <th></th>\n",
       "      <th></th>\n",
       "    </tr>\n",
       "  </thead>\n",
       "  <tbody>\n",
       "    <tr>\n",
       "      <th>2009</th>\n",
       "      <td>0.91</td>\n",
       "      <td>0.46</td>\n",
       "      <td>0.69</td>\n",
       "    </tr>\n",
       "    <tr>\n",
       "      <th>2008</th>\n",
       "      <td>0.92</td>\n",
       "      <td>0.47</td>\n",
       "      <td>0.67</td>\n",
       "    </tr>\n",
       "    <tr>\n",
       "      <th>2007</th>\n",
       "      <td>0.92</td>\n",
       "      <td>0.46</td>\n",
       "      <td>0.68</td>\n",
       "    </tr>\n",
       "    <tr>\n",
       "      <th>2006</th>\n",
       "      <td>0.88</td>\n",
       "      <td>0.45</td>\n",
       "      <td>0.65</td>\n",
       "    </tr>\n",
       "    <tr>\n",
       "      <th>2005</th>\n",
       "      <td>0.90</td>\n",
       "      <td>0.43</td>\n",
       "      <td>0.64</td>\n",
       "    </tr>\n",
       "    <tr>\n",
       "      <th>2004</th>\n",
       "      <td>0.91</td>\n",
       "      <td>0.41</td>\n",
       "      <td>0.62</td>\n",
       "    </tr>\n",
       "    <tr>\n",
       "      <th>2003</th>\n",
       "      <td>0.93</td>\n",
       "      <td>0.40</td>\n",
       "      <td>0.61</td>\n",
       "    </tr>\n",
       "    <tr>\n",
       "      <th>2002</th>\n",
       "      <td>0.95</td>\n",
       "      <td>0.38</td>\n",
       "      <td>0.59</td>\n",
       "    </tr>\n",
       "    <tr>\n",
       "      <th>2001</th>\n",
       "      <td>0.96</td>\n",
       "      <td>0.37</td>\n",
       "      <td>0.56</td>\n",
       "    </tr>\n",
       "    <tr>\n",
       "      <th>2000</th>\n",
       "      <td>0.92</td>\n",
       "      <td>0.38</td>\n",
       "      <td>0.58</td>\n",
       "    </tr>\n",
       "  </tbody>\n",
       "</table>\n",
       "</div>"
      ],
      "text/plain": [
       "      Beer  Wine  Spirits\n",
       "Year                     \n",
       "2009  0.91  0.46     0.69\n",
       "2008  0.92  0.47     0.67\n",
       "2007  0.92  0.46     0.68\n",
       "2006  0.88  0.45     0.65\n",
       "2005  0.90  0.43     0.64\n",
       "2004  0.91  0.41     0.62\n",
       "2003  0.93  0.40     0.61\n",
       "2002  0.95  0.38     0.59\n",
       "2001  0.96  0.37     0.56\n",
       "2000  0.92  0.38     0.58"
      ]
     },
     "execution_count": 70,
     "metadata": {},
     "output_type": "execute_result"
    }
   ],
   "source": [
    "alco_10 = alco.loc['New York'][:10]\n",
    "alco_10"
   ]
  },
  {
   "cell_type": "code",
   "execution_count": 71,
   "metadata": {},
   "outputs": [
    {
     "data": {
      "text/plain": [
       "[('Beer', 0.4611330193379027, 0.17978962070053112),\n",
       " ('Wine', -0.934539787083709, 7.419209532026103e-05),\n",
       " ('Spirits', -0.9538330927232627, 1.879470263011385e-05)]"
      ]
     },
     "execution_count": 71,
     "metadata": {},
     "output_type": "execute_result"
    }
   ],
   "source": [
    "# List comprehension to calculate all correlations and p-values \n",
    "corrs = [(bev,) + pearsonr(alco_10[bev], pop_sorted) for bev in alco_10.columns]\n",
    "corrs"
   ]
  },
  {
   "cell_type": "code",
   "execution_count": 72,
   "metadata": {},
   "outputs": [
    {
     "data": {
      "text/html": [
       "<div>\n",
       "<style scoped>\n",
       "    .dataframe tbody tr th:only-of-type {\n",
       "        vertical-align: middle;\n",
       "    }\n",
       "\n",
       "    .dataframe tbody tr th {\n",
       "        vertical-align: top;\n",
       "    }\n",
       "\n",
       "    .dataframe thead th {\n",
       "        text-align: right;\n",
       "    }\n",
       "</style>\n",
       "<table border=\"1\" class=\"dataframe\">\n",
       "  <thead>\n",
       "    <tr style=\"text-align: right;\">\n",
       "      <th></th>\n",
       "      <th>r</th>\n",
       "      <th>p-value</th>\n",
       "    </tr>\n",
       "    <tr>\n",
       "      <th>bev</th>\n",
       "      <th></th>\n",
       "      <th></th>\n",
       "    </tr>\n",
       "  </thead>\n",
       "  <tbody>\n",
       "    <tr>\n",
       "      <th>Beer</th>\n",
       "      <td>0.461133</td>\n",
       "      <td>0.179790</td>\n",
       "    </tr>\n",
       "    <tr>\n",
       "      <th>Wine</th>\n",
       "      <td>-0.934540</td>\n",
       "      <td>0.000074</td>\n",
       "    </tr>\n",
       "    <tr>\n",
       "      <th>Spirits</th>\n",
       "      <td>-0.953833</td>\n",
       "      <td>0.000019</td>\n",
       "    </tr>\n",
       "  </tbody>\n",
       "</table>\n",
       "</div>"
      ],
      "text/plain": [
       "                r   p-value\n",
       "bev                        \n",
       "Beer     0.461133  0.179790\n",
       "Wine    -0.934540  0.000074\n",
       "Spirits -0.953833  0.000019"
      ]
     },
     "execution_count": 72,
     "metadata": {},
     "output_type": "execute_result"
    }
   ],
   "source": [
    "# Convert the list to a frame\n",
    "pd.DataFrame(corrs, columns=(\"bev\", \"r\", \"p-value\")).set_index(\"bev\")"
   ]
  },
  {
   "cell_type": "code",
   "execution_count": null,
   "metadata": {},
   "outputs": [],
   "source": []
  }
 ],
 "metadata": {
  "kernelspec": {
   "display_name": "Python 3",
   "language": "python",
   "name": "python3"
  },
  "language_info": {
   "codemirror_mode": {
    "name": "ipython",
    "version": 3
   },
   "file_extension": ".py",
   "mimetype": "text/x-python",
   "name": "python",
   "nbconvert_exporter": "python",
   "pygments_lexer": "ipython3",
   "version": "3.5.2"
  }
 },
 "nbformat": 4,
 "nbformat_minor": 2
}
